{
 "cells": [
  {
   "cell_type": "markdown",
   "id": "6ab875bd-09b8-4ffc-bea2-683ceab76956",
   "metadata": {},
   "source": [
    "# Apache X Table with DeltaStreamer and trino Demo"
   ]
  },
  {
   "cell_type": "code",
   "execution_count": 1,
   "id": "180b8c66-7b21-4a7d-a424-d28d7541c4eb",
   "metadata": {},
   "outputs": [
    {
     "name": "stdout",
     "output_type": "stream",
     "text": [
      "Requirement already satisfied: trino in /usr/local/python/3.10.13/lib/python3.10/site-packages (0.328.0)\n",
      "Requirement already satisfied: python-dateutil in /home/codespace/.local/lib/python3.10/site-packages (from trino) (2.9.0.post0)\n",
      "Requirement already satisfied: pytz in /home/codespace/.local/lib/python3.10/site-packages (from trino) (2024.1)\n",
      "Requirement already satisfied: requests>=2.31.0 in /home/codespace/.local/lib/python3.10/site-packages (from trino) (2.31.0)\n",
      "Requirement already satisfied: tzlocal in /usr/local/python/3.10.13/lib/python3.10/site-packages (from trino) (5.2)\n",
      "Requirement already satisfied: charset-normalizer<4,>=2 in /home/codespace/.local/lib/python3.10/site-packages (from requests>=2.31.0->trino) (3.3.2)\n",
      "Requirement already satisfied: idna<4,>=2.5 in /home/codespace/.local/lib/python3.10/site-packages (from requests>=2.31.0->trino) (3.6)\n",
      "Requirement already satisfied: urllib3<3,>=1.21.1 in /usr/local/python/3.10.13/lib/python3.10/site-packages (from requests>=2.31.0->trino) (2.0.7)\n",
      "Requirement already satisfied: certifi>=2017.4.17 in /home/codespace/.local/lib/python3.10/site-packages (from requests>=2.31.0->trino) (2024.2.2)\n",
      "Requirement already satisfied: six>=1.5 in /home/codespace/.local/lib/python3.10/site-packages (from python-dateutil->trino) (1.16.0)\n",
      "Requirement already satisfied: ipython-sql in /usr/local/python/3.10.13/lib/python3.10/site-packages (0.5.0)\n",
      "Requirement already satisfied: prettytable in /usr/local/python/3.10.13/lib/python3.10/site-packages (from ipython-sql) (3.10.0)\n",
      "Requirement already satisfied: ipython in /home/codespace/.local/lib/python3.10/site-packages (from ipython-sql) (8.22.2)\n",
      "Requirement already satisfied: sqlalchemy>=2.0 in /usr/local/python/3.10.13/lib/python3.10/site-packages (from ipython-sql) (2.0.29)\n",
      "Requirement already satisfied: sqlparse in /usr/local/python/3.10.13/lib/python3.10/site-packages (from ipython-sql) (0.4.4)\n",
      "Requirement already satisfied: six in /home/codespace/.local/lib/python3.10/site-packages (from ipython-sql) (1.16.0)\n",
      "Requirement already satisfied: ipython-genutils in /usr/local/python/3.10.13/lib/python3.10/site-packages (from ipython-sql) (0.2.0)\n",
      "Requirement already satisfied: typing-extensions>=4.6.0 in /home/codespace/.local/lib/python3.10/site-packages (from sqlalchemy>=2.0->ipython-sql) (4.10.0)\n",
      "Requirement already satisfied: greenlet!=0.4.17 in /usr/local/python/3.10.13/lib/python3.10/site-packages (from sqlalchemy>=2.0->ipython-sql) (3.0.3)\n",
      "Requirement already satisfied: decorator in /home/codespace/.local/lib/python3.10/site-packages (from ipython->ipython-sql) (5.1.1)\n",
      "Requirement already satisfied: jedi>=0.16 in /home/codespace/.local/lib/python3.10/site-packages (from ipython->ipython-sql) (0.19.1)\n",
      "Requirement already satisfied: matplotlib-inline in /home/codespace/.local/lib/python3.10/site-packages (from ipython->ipython-sql) (0.1.6)\n",
      "Requirement already satisfied: prompt-toolkit<3.1.0,>=3.0.41 in /home/codespace/.local/lib/python3.10/site-packages (from ipython->ipython-sql) (3.0.43)\n",
      "Requirement already satisfied: pygments>=2.4.0 in /home/codespace/.local/lib/python3.10/site-packages (from ipython->ipython-sql) (2.17.2)\n",
      "Requirement already satisfied: stack-data in /home/codespace/.local/lib/python3.10/site-packages (from ipython->ipython-sql) (0.6.3)\n",
      "Requirement already satisfied: traitlets>=5.13.0 in /home/codespace/.local/lib/python3.10/site-packages (from ipython->ipython-sql) (5.14.2)\n",
      "Requirement already satisfied: exceptiongroup in /home/codespace/.local/lib/python3.10/site-packages (from ipython->ipython-sql) (1.2.0)\n",
      "Requirement already satisfied: pexpect>4.3 in /home/codespace/.local/lib/python3.10/site-packages (from ipython->ipython-sql) (4.9.0)\n",
      "Requirement already satisfied: wcwidth in /home/codespace/.local/lib/python3.10/site-packages (from prettytable->ipython-sql) (0.2.13)\n",
      "Requirement already satisfied: parso<0.9.0,>=0.8.3 in /home/codespace/.local/lib/python3.10/site-packages (from jedi>=0.16->ipython->ipython-sql) (0.8.3)\n",
      "Requirement already satisfied: ptyprocess>=0.5 in /home/codespace/.local/lib/python3.10/site-packages (from pexpect>4.3->ipython->ipython-sql) (0.7.0)\n",
      "Requirement already satisfied: executing>=1.2.0 in /home/codespace/.local/lib/python3.10/site-packages (from stack-data->ipython->ipython-sql) (2.0.1)\n",
      "Requirement already satisfied: asttokens>=2.1.0 in /home/codespace/.local/lib/python3.10/site-packages (from stack-data->ipython->ipython-sql) (2.4.1)\n",
      "Requirement already satisfied: pure-eval in /home/codespace/.local/lib/python3.10/site-packages (from stack-data->ipython->ipython-sql) (0.2.2)\n"
     ]
    }
   ],
   "source": [
    "# Install DEP\n",
    "!pip install trino\n",
    "!pip install ipython-sql\n",
    "\n"
   ]
  },
  {
   "cell_type": "markdown",
   "id": "9dd5b6ec-dc36-4666-abfd-2a3d7321fc55",
   "metadata": {},
   "source": [
    "# Read data as HUDI "
   ]
  },
  {
   "cell_type": "code",
   "execution_count": 2,
   "id": "4d063637-aab8-4c7c-968b-d9dab3548030",
   "metadata": {},
   "outputs": [],
   "source": [
    "%load_ext sql"
   ]
  },
  {
   "cell_type": "code",
   "execution_count": 3,
   "id": "6d2d4f61-d068-4f08-8343-8c70ac54ff5f",
   "metadata": {},
   "outputs": [],
   "source": [
    "%sql trino://admin@localhost:8080/default"
   ]
  },
  {
   "cell_type": "code",
   "execution_count": 39,
   "id": "154fc82f-b218-47c2-8028-05b970b6a782",
   "metadata": {},
   "outputs": [
    {
     "name": "stdout",
     "output_type": "stream",
     "text": [
      " * trino://admin@localhost:8080/default\n",
      "Done.\n"
     ]
    },
    {
     "data": {
      "text/html": [
       "<table>\n",
       "    <thead>\n",
       "        <tr>\n",
       "            <th>Catalog</th>\n",
       "        </tr>\n",
       "    </thead>\n",
       "    <tbody>\n",
       "        <tr>\n",
       "            <td>delta</td>\n",
       "        </tr>\n",
       "        <tr>\n",
       "            <td>hive</td>\n",
       "        </tr>\n",
       "        <tr>\n",
       "            <td>hudi</td>\n",
       "        </tr>\n",
       "        <tr>\n",
       "            <td>iceberg</td>\n",
       "        </tr>\n",
       "        <tr>\n",
       "            <td>minio</td>\n",
       "        </tr>\n",
       "        <tr>\n",
       "            <td>system</td>\n",
       "        </tr>\n",
       "    </tbody>\n",
       "</table>"
      ],
      "text/plain": [
       "[('delta',), ('hive',), ('hudi',), ('iceberg',), ('minio',), ('system',)]"
      ]
     },
     "execution_count": 39,
     "metadata": {},
     "output_type": "execute_result"
    }
   ],
   "source": [
    "%sql SHOW CATALOGS"
   ]
  },
  {
   "cell_type": "code",
   "execution_count": 4,
   "id": "3b9db31f-aba4-4525-be67-1d0333c177af",
   "metadata": {},
   "outputs": [
    {
     "name": "stdout",
     "output_type": "stream",
     "text": [
      " * trino://admin@localhost:8080/default\n",
      "Done.\n"
     ]
    },
    {
     "data": {
      "text/plain": [
       "[]"
      ]
     },
     "execution_count": 4,
     "metadata": {},
     "output_type": "execute_result"
    }
   ],
   "source": [
    "%sql USE hudi.default"
   ]
  },
  {
   "cell_type": "code",
   "execution_count": 5,
   "id": "b8201b34-f4c2-4504-b6d9-9957ffa23609",
   "metadata": {},
   "outputs": [
    {
     "name": "stdout",
     "output_type": "stream",
     "text": [
      " * trino://admin@localhost:8080/default\n",
      "Done.\n"
     ]
    },
    {
     "data": {
      "text/html": [
       "<table>\n",
       "    <thead>\n",
       "        <tr>\n",
       "            <th>Table</th>\n",
       "        </tr>\n",
       "    </thead>\n",
       "    <tbody>\n",
       "        <tr>\n",
       "            <td>sales</td>\n",
       "        </tr>\n",
       "    </tbody>\n",
       "</table>"
      ],
      "text/plain": [
       "[('sales',)]"
      ]
     },
     "execution_count": 5,
     "metadata": {},
     "output_type": "execute_result"
    }
   ],
   "source": [
    "%sql show tables"
   ]
  },
  {
   "cell_type": "code",
   "execution_count": 11,
   "id": "3e49e25d-5423-437a-9118-bc918c0d153e",
   "metadata": {},
   "outputs": [
    {
     "name": "stdout",
     "output_type": "stream",
     "text": [
      " * trino://admin@localhost:8080/default\n",
      "Done.\n"
     ]
    },
    {
     "data": {
      "text/html": [
       "<table>\n",
       "    <thead>\n",
       "        <tr>\n",
       "            <th>salesid</th>\n",
       "            <th>referral</th>\n",
       "        </tr>\n",
       "    </thead>\n",
       "    <tbody>\n",
       "        <tr>\n",
       "            <td>3</td>\n",
       "            <td>WordOfMouth</td>\n",
       "        </tr>\n",
       "        <tr>\n",
       "            <td>5</td>\n",
       "            <td>WordOfMouth</td>\n",
       "        </tr>\n",
       "        <tr>\n",
       "            <td>4</td>\n",
       "            <td>SocialMedia</td>\n",
       "        </tr>\n",
       "    </tbody>\n",
       "</table>"
      ],
      "text/plain": [
       "[(3, 'WordOfMouth'), (5, 'WordOfMouth'), (4, 'SocialMedia')]"
      ]
     },
     "execution_count": 11,
     "metadata": {},
     "output_type": "execute_result"
    }
   ],
   "source": [
    "%sql SELECT salesid,referral  FROM sales "
   ]
  },
  {
   "cell_type": "markdown",
   "id": "889dd4c8-8c76-481d-859a-75457967e159",
   "metadata": {},
   "source": [
    " %sql describe  sales"
   ]
  },
  {
   "cell_type": "markdown",
   "id": "4deaad12-8e98-45d7-9950-dc396074f1d7",
   "metadata": {},
   "source": [
    "# Delta"
   ]
  },
  {
   "cell_type": "code",
   "execution_count": 12,
   "id": "cf25c610-508a-4dbb-a35f-492827a21562",
   "metadata": {},
   "outputs": [
    {
     "name": "stdout",
     "output_type": "stream",
     "text": [
      " * trino://admin@localhost:8080/default\n",
      "Done.\n"
     ]
    },
    {
     "data": {
      "text/html": [
       "<table>\n",
       "    <thead>\n",
       "        <tr>\n",
       "            <th>Catalog</th>\n",
       "        </tr>\n",
       "    </thead>\n",
       "    <tbody>\n",
       "        <tr>\n",
       "            <td>delta</td>\n",
       "        </tr>\n",
       "        <tr>\n",
       "            <td>hive</td>\n",
       "        </tr>\n",
       "        <tr>\n",
       "            <td>hudi</td>\n",
       "        </tr>\n",
       "        <tr>\n",
       "            <td>iceberg</td>\n",
       "        </tr>\n",
       "        <tr>\n",
       "            <td>minio</td>\n",
       "        </tr>\n",
       "        <tr>\n",
       "            <td>system</td>\n",
       "        </tr>\n",
       "    </tbody>\n",
       "</table>"
      ],
      "text/plain": [
       "[('delta',), ('hive',), ('hudi',), ('iceberg',), ('minio',), ('system',)]"
      ]
     },
     "execution_count": 12,
     "metadata": {},
     "output_type": "execute_result"
    }
   ],
   "source": [
    "%sql SHOW CATALOGS"
   ]
  },
  {
   "cell_type": "code",
   "execution_count": 13,
   "id": "7d50291f-4a39-48b0-8487-5854ad855d2c",
   "metadata": {},
   "outputs": [
    {
     "name": "stdout",
     "output_type": "stream",
     "text": [
      " * trino://admin@localhost:8080/default\n",
      "Done.\n"
     ]
    },
    {
     "data": {
      "text/plain": [
       "[]"
      ]
     },
     "execution_count": 13,
     "metadata": {},
     "output_type": "execute_result"
    }
   ],
   "source": [
    "%sql USE delta.delta_db"
   ]
  },
  {
   "cell_type": "code",
   "execution_count": 14,
   "id": "f957d773-8634-4019-a586-003fcac2aa88",
   "metadata": {},
   "outputs": [
    {
     "name": "stdout",
     "output_type": "stream",
     "text": [
      " * trino://admin@localhost:8080/default\n",
      "Done.\n"
     ]
    },
    {
     "data": {
      "text/html": [
       "<table>\n",
       "    <thead>\n",
       "        <tr>\n",
       "            <th>Table</th>\n",
       "        </tr>\n",
       "    </thead>\n",
       "    <tbody>\n",
       "        <tr>\n",
       "            <td>delta_sales</td>\n",
       "        </tr>\n",
       "    </tbody>\n",
       "</table>"
      ],
      "text/plain": [
       "[('delta_sales',)]"
      ]
     },
     "execution_count": 14,
     "metadata": {},
     "output_type": "execute_result"
    }
   ],
   "source": [
    "%sql show tables"
   ]
  },
  {
   "cell_type": "code",
   "execution_count": 15,
   "id": "72bab063-765a-4a5c-9e6b-16d8625b195b",
   "metadata": {},
   "outputs": [
    {
     "name": "stdout",
     "output_type": "stream",
     "text": [
      " * trino://admin@localhost:8080/default\n",
      "Done.\n"
     ]
    },
    {
     "data": {
      "text/html": [
       "<table>\n",
       "    <thead>\n",
       "        <tr>\n",
       "            <th>_hoodie_commit_time</th>\n",
       "            <th>_hoodie_commit_seqno</th>\n",
       "            <th>_hoodie_record_key</th>\n",
       "            <th>_hoodie_partition_path</th>\n",
       "            <th>_hoodie_file_name</th>\n",
       "            <th>_change_operation_type</th>\n",
       "            <th>_upstream_event_processed_ts_ms</th>\n",
       "            <th>db_shard_source_partition</th>\n",
       "            <th>db_schema_source_partition</th>\n",
       "            <th>_event_origin_ts_ms</th>\n",
       "            <th>_event_tx_id</th>\n",
       "            <th>_event_lsn</th>\n",
       "            <th>_event_xmin</th>\n",
       "            <th>salesid</th>\n",
       "            <th>invoiceid</th>\n",
       "            <th>itemid</th>\n",
       "            <th>category</th>\n",
       "            <th>price</th>\n",
       "            <th>quantity</th>\n",
       "            <th>orderdate</th>\n",
       "            <th>destinationstate</th>\n",
       "            <th>shippingtype</th>\n",
       "            <th>referral</th>\n",
       "            <th>updated_at</th>\n",
       "        </tr>\n",
       "    </thead>\n",
       "    <tbody>\n",
       "        <tr>\n",
       "            <td>20240408100257466</td>\n",
       "            <td>20240408100257466_0_0</td>\n",
       "            <td>3</td>\n",
       "            <td></td>\n",
       "            <td>bd8ed59e-2423-4c9e-94f3-7ae3b1ab64f0-0_0-114-202_20240408100844071.parquet</td>\n",
       "            <td>r</td>\n",
       "            <td>1712559265914</td>\n",
       "            <td>hive</td>\n",
       "            <td>public</td>\n",
       "            <td>1712559265914</td>\n",
       "            <td>832</td>\n",
       "            <td>25914072</td>\n",
       "            <td>None</td>\n",
       "            <td>3</td>\n",
       "            <td>103</td>\n",
       "            <td>2</td>\n",
       "            <td>Home &amp; Garden</td>\n",
       "            <td>199.50</td>\n",
       "            <td>1</td>\n",
       "            <td>19684</td>\n",
       "            <td>Texas</td>\n",
       "            <td>Express</td>\n",
       "            <td>WordOfMouth</td>\n",
       "            <td>1712557248693207</td>\n",
       "        </tr>\n",
       "        <tr>\n",
       "            <td>20240408100257466</td>\n",
       "            <td>20240408100257466_0_1</td>\n",
       "            <td>5</td>\n",
       "            <td></td>\n",
       "            <td>bd8ed59e-2423-4c9e-94f3-7ae3b1ab64f0-0_0-114-202_20240408100844071.parquet</td>\n",
       "            <td>r</td>\n",
       "            <td>1712559265914</td>\n",
       "            <td>hive</td>\n",
       "            <td>public</td>\n",
       "            <td>1712559265914</td>\n",
       "            <td>832</td>\n",
       "            <td>25914072</td>\n",
       "            <td>None</td>\n",
       "            <td>5</td>\n",
       "            <td>103</td>\n",
       "            <td>2</td>\n",
       "            <td>Home &amp; Garden</td>\n",
       "            <td>199.50</td>\n",
       "            <td>1</td>\n",
       "            <td>19684</td>\n",
       "            <td>Texas</td>\n",
       "            <td>Express</td>\n",
       "            <td>WordOfMouth</td>\n",
       "            <td>1712557248709228</td>\n",
       "        </tr>\n",
       "        <tr>\n",
       "            <td>20240408100257466</td>\n",
       "            <td>20240408100257466_0_3</td>\n",
       "            <td>4</td>\n",
       "            <td></td>\n",
       "            <td>bd8ed59e-2423-4c9e-94f3-7ae3b1ab64f0-0_0-114-202_20240408100844071.parquet</td>\n",
       "            <td>r</td>\n",
       "            <td>1712559265914</td>\n",
       "            <td>hive</td>\n",
       "            <td>public</td>\n",
       "            <td>1712559265914</td>\n",
       "            <td>832</td>\n",
       "            <td>25914072</td>\n",
       "            <td>None</td>\n",
       "            <td>4</td>\n",
       "            <td>104</td>\n",
       "            <td>4</td>\n",
       "            <td>Books</td>\n",
       "            <td>15.75</td>\n",
       "            <td>3</td>\n",
       "            <td>19685</td>\n",
       "            <td>Florida</td>\n",
       "            <td>Standard</td>\n",
       "            <td>SocialMedia</td>\n",
       "            <td>1712557248703200</td>\n",
       "        </tr>\n",
       "    </tbody>\n",
       "</table>"
      ],
      "text/plain": [
       "[('20240408100257466', '20240408100257466_0_0', '3', '', 'bd8ed59e-2423-4c9e-94f3-7ae3b1ab64f0-0_0-114-202_20240408100844071.parquet', 'r', 1712559265914, 'hive', 'public', 1712559265914, 832, 25914072, None, 3, 103, 2, 'Home & Garden', Decimal('199.50'), 1, 19684, 'Texas', 'Express', 'WordOfMouth', 1712557248693207),\n",
       " ('20240408100257466', '20240408100257466_0_1', '5', '', 'bd8ed59e-2423-4c9e-94f3-7ae3b1ab64f0-0_0-114-202_20240408100844071.parquet', 'r', 1712559265914, 'hive', 'public', 1712559265914, 832, 25914072, None, 5, 103, 2, 'Home & Garden', Decimal('199.50'), 1, 19684, 'Texas', 'Express', 'WordOfMouth', 1712557248709228),\n",
       " ('20240408100257466', '20240408100257466_0_3', '4', '', 'bd8ed59e-2423-4c9e-94f3-7ae3b1ab64f0-0_0-114-202_20240408100844071.parquet', 'r', 1712559265914, 'hive', 'public', 1712559265914, 832, 25914072, None, 4, 104, 4, 'Books', Decimal('15.75'), 3, 19685, 'Florida', 'Standard', 'SocialMedia', 1712557248703200)]"
      ]
     },
     "execution_count": 15,
     "metadata": {},
     "output_type": "execute_result"
    }
   ],
   "source": [
    "%sql select * from delta_sales"
   ]
  },
  {
   "cell_type": "code",
   "execution_count": 17,
   "id": "e33c2e8e-159a-43dd-b674-2fcaf18688f0",
   "metadata": {},
   "outputs": [
    {
     "name": "stdout",
     "output_type": "stream",
     "text": [
      " * trino://admin@localhost:8080/default\n",
      "Done.\n"
     ]
    },
    {
     "data": {
      "text/html": [
       "<table>\n",
       "    <thead>\n",
       "        <tr>\n",
       "            <th>Catalog</th>\n",
       "        </tr>\n",
       "    </thead>\n",
       "    <tbody>\n",
       "        <tr>\n",
       "            <td>delta</td>\n",
       "        </tr>\n",
       "        <tr>\n",
       "            <td>hive</td>\n",
       "        </tr>\n",
       "        <tr>\n",
       "            <td>hudi</td>\n",
       "        </tr>\n",
       "        <tr>\n",
       "            <td>iceberg</td>\n",
       "        </tr>\n",
       "        <tr>\n",
       "            <td>minio</td>\n",
       "        </tr>\n",
       "        <tr>\n",
       "            <td>system</td>\n",
       "        </tr>\n",
       "    </tbody>\n",
       "</table>"
      ],
      "text/plain": [
       "[('delta',), ('hive',), ('hudi',), ('iceberg',), ('minio',), ('system',)]"
      ]
     },
     "execution_count": 17,
     "metadata": {},
     "output_type": "execute_result"
    }
   ],
   "source": [
    "%sql show CATALOGS"
   ]
  },
  {
   "cell_type": "code",
   "execution_count": 19,
   "id": "7f7ae4ed-5f07-4442-a7e4-f11999c12a9f",
   "metadata": {},
   "outputs": [
    {
     "name": "stdout",
     "output_type": "stream",
     "text": [
      " * trino://admin@localhost:8080/default\n",
      "Done.\n"
     ]
    },
    {
     "data": {
      "text/plain": [
       "[]"
      ]
     },
     "execution_count": 19,
     "metadata": {},
     "output_type": "execute_result"
    }
   ],
   "source": [
    "%sql USE iceberg.iceberg_db"
   ]
  },
  {
   "cell_type": "code",
   "execution_count": 25,
   "id": "48e4db20-b5f3-4b18-a313-bebaa740da56",
   "metadata": {},
   "outputs": [
    {
     "name": "stdout",
     "output_type": "stream",
     "text": [
      " * trino://admin@localhost:8080/default\n",
      "Done.\n"
     ]
    },
    {
     "data": {
      "text/html": [
       "<table>\n",
       "    <thead>\n",
       "        <tr>\n",
       "            <th>Table</th>\n",
       "        </tr>\n",
       "    </thead>\n",
       "    <tbody>\n",
       "        <tr>\n",
       "            <td>ice_sales</td>\n",
       "        </tr>\n",
       "    </tbody>\n",
       "</table>"
      ],
      "text/plain": [
       "[('ice_sales',)]"
      ]
     },
     "execution_count": 25,
     "metadata": {},
     "output_type": "execute_result"
    }
   ],
   "source": [
    "%sql show tables"
   ]
  },
  {
   "cell_type": "code",
   "execution_count": 24,
   "id": "e70dca02-f4ec-4669-8b8f-bd5603bed6d3",
   "metadata": {},
   "outputs": [
    {
     "name": "stdout",
     "output_type": "stream",
     "text": [
      " * trino://admin@localhost:8080/default\n",
      "(trino.exceptions.TrinoExternalError) TrinoExternalError(type=EXTERNAL, name=UNSUPPORTED_TABLE_TYPE, message=\"Not an Iceberg table: iceberg_db.ice_sales\", query_id=20240408_105550_00019_ti2fz)\n",
      "[SQL: select * from ice_sales]\n",
      "(Background on this error at: https://sqlalche.me/e/20/e3q8)\n"
     ]
    }
   ],
   "source": [
    "%sql select * from ice_sales"
   ]
  }
 ],
 "metadata": {
  "kernelspec": {
   "display_name": "Python 3 (ipykernel)",
   "language": "python",
   "name": "python3"
  },
  "language_info": {
   "codemirror_mode": {
    "name": "ipython",
    "version": 3
   },
   "file_extension": ".py",
   "mimetype": "text/x-python",
   "name": "python",
   "nbconvert_exporter": "python",
   "pygments_lexer": "ipython3",
   "version": "3.10.13"
  }
 },
 "nbformat": 4,
 "nbformat_minor": 5
}
