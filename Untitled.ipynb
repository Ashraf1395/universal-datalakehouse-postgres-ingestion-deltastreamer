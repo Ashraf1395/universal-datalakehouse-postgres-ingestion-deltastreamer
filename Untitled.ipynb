{
 "cells": [
  {
   "cell_type": "markdown",
   "id": "6ab875bd-09b8-4ffc-bea2-683ceab76956",
   "metadata": {},
   "source": [
    "# Apache X Table with DeltaStreamer and trino Demo"
   ]
  },
  {
   "cell_type": "code",
   "execution_count": 1,
   "id": "180b8c66-7b21-4a7d-a424-d28d7541c4eb",
   "metadata": {},
   "outputs": [
    {
     "name": "stdout",
     "output_type": "stream",
     "text": [
      "Requirement already satisfied: trino in /usr/local/python/3.10.13/lib/python3.10/site-packages (0.328.0)\n",
      "Requirement already satisfied: python-dateutil in /home/codespace/.local/lib/python3.10/site-packages (from trino) (2.9.0.post0)\n",
      "Requirement already satisfied: pytz in /home/codespace/.local/lib/python3.10/site-packages (from trino) (2024.1)\n",
      "Requirement already satisfied: requests>=2.31.0 in /home/codespace/.local/lib/python3.10/site-packages (from trino) (2.31.0)\n",
      "Requirement already satisfied: tzlocal in /usr/local/python/3.10.13/lib/python3.10/site-packages (from trino) (5.2)\n",
      "Requirement already satisfied: charset-normalizer<4,>=2 in /home/codespace/.local/lib/python3.10/site-packages (from requests>=2.31.0->trino) (3.3.2)\n",
      "Requirement already satisfied: idna<4,>=2.5 in /home/codespace/.local/lib/python3.10/site-packages (from requests>=2.31.0->trino) (3.6)\n",
      "Requirement already satisfied: urllib3<3,>=1.21.1 in /usr/local/python/3.10.13/lib/python3.10/site-packages (from requests>=2.31.0->trino) (2.0.7)\n",
      "Requirement already satisfied: certifi>=2017.4.17 in /home/codespace/.local/lib/python3.10/site-packages (from requests>=2.31.0->trino) (2024.2.2)\n",
      "Requirement already satisfied: six>=1.5 in /home/codespace/.local/lib/python3.10/site-packages (from python-dateutil->trino) (1.16.0)\n",
      "Requirement already satisfied: ipython-sql in /usr/local/python/3.10.13/lib/python3.10/site-packages (0.5.0)\n",
      "Requirement already satisfied: prettytable in /usr/local/python/3.10.13/lib/python3.10/site-packages (from ipython-sql) (3.10.0)\n",
      "Requirement already satisfied: ipython in /home/codespace/.local/lib/python3.10/site-packages (from ipython-sql) (8.22.2)\n",
      "Requirement already satisfied: sqlalchemy>=2.0 in /usr/local/python/3.10.13/lib/python3.10/site-packages (from ipython-sql) (2.0.29)\n",
      "Requirement already satisfied: sqlparse in /usr/local/python/3.10.13/lib/python3.10/site-packages (from ipython-sql) (0.4.4)\n",
      "Requirement already satisfied: six in /home/codespace/.local/lib/python3.10/site-packages (from ipython-sql) (1.16.0)\n",
      "Requirement already satisfied: ipython-genutils in /usr/local/python/3.10.13/lib/python3.10/site-packages (from ipython-sql) (0.2.0)\n",
      "Requirement already satisfied: typing-extensions>=4.6.0 in /home/codespace/.local/lib/python3.10/site-packages (from sqlalchemy>=2.0->ipython-sql) (4.10.0)\n",
      "Requirement already satisfied: greenlet!=0.4.17 in /usr/local/python/3.10.13/lib/python3.10/site-packages (from sqlalchemy>=2.0->ipython-sql) (3.0.3)\n",
      "Requirement already satisfied: decorator in /home/codespace/.local/lib/python3.10/site-packages (from ipython->ipython-sql) (5.1.1)\n",
      "Requirement already satisfied: jedi>=0.16 in /home/codespace/.local/lib/python3.10/site-packages (from ipython->ipython-sql) (0.19.1)\n",
      "Requirement already satisfied: matplotlib-inline in /home/codespace/.local/lib/python3.10/site-packages (from ipython->ipython-sql) (0.1.6)\n",
      "Requirement already satisfied: prompt-toolkit<3.1.0,>=3.0.41 in /home/codespace/.local/lib/python3.10/site-packages (from ipython->ipython-sql) (3.0.43)\n",
      "Requirement already satisfied: pygments>=2.4.0 in /home/codespace/.local/lib/python3.10/site-packages (from ipython->ipython-sql) (2.17.2)\n",
      "Requirement already satisfied: stack-data in /home/codespace/.local/lib/python3.10/site-packages (from ipython->ipython-sql) (0.6.3)\n",
      "Requirement already satisfied: traitlets>=5.13.0 in /home/codespace/.local/lib/python3.10/site-packages (from ipython->ipython-sql) (5.14.2)\n",
      "Requirement already satisfied: exceptiongroup in /home/codespace/.local/lib/python3.10/site-packages (from ipython->ipython-sql) (1.2.0)\n",
      "Requirement already satisfied: pexpect>4.3 in /home/codespace/.local/lib/python3.10/site-packages (from ipython->ipython-sql) (4.9.0)\n",
      "Requirement already satisfied: wcwidth in /home/codespace/.local/lib/python3.10/site-packages (from prettytable->ipython-sql) (0.2.13)\n",
      "Requirement already satisfied: parso<0.9.0,>=0.8.3 in /home/codespace/.local/lib/python3.10/site-packages (from jedi>=0.16->ipython->ipython-sql) (0.8.3)\n",
      "Requirement already satisfied: ptyprocess>=0.5 in /home/codespace/.local/lib/python3.10/site-packages (from pexpect>4.3->ipython->ipython-sql) (0.7.0)\n",
      "Requirement already satisfied: executing>=1.2.0 in /home/codespace/.local/lib/python3.10/site-packages (from stack-data->ipython->ipython-sql) (2.0.1)\n",
      "Requirement already satisfied: asttokens>=2.1.0 in /home/codespace/.local/lib/python3.10/site-packages (from stack-data->ipython->ipython-sql) (2.4.1)\n",
      "Requirement already satisfied: pure-eval in /home/codespace/.local/lib/python3.10/site-packages (from stack-data->ipython->ipython-sql) (0.2.2)\n"
     ]
    }
   ],
   "source": [
    "# Install DEP\n",
    "!pip install trino\n",
    "!pip install ipython-sql\n",
    "\n"
   ]
  },
  {
   "cell_type": "markdown",
   "id": "9dd5b6ec-dc36-4666-abfd-2a3d7321fc55",
   "metadata": {},
   "source": [
    "# Read data as HUDI "
   ]
  },
  {
   "cell_type": "code",
   "execution_count": 9,
   "id": "4d063637-aab8-4c7c-968b-d9dab3548030",
   "metadata": {},
   "outputs": [
    {
     "name": "stdout",
     "output_type": "stream",
     "text": [
      "The sql extension is already loaded. To reload it, use:\n",
      "  %reload_ext sql\n"
     ]
    }
   ],
   "source": [
    "%load_ext sql"
   ]
  },
  {
   "cell_type": "code",
   "execution_count": 10,
   "id": "6d2d4f61-d068-4f08-8343-8c70ac54ff5f",
   "metadata": {},
   "outputs": [],
   "source": [
    "%sql trino://admin@localhost:8080/default"
   ]
  },
  {
   "cell_type": "code",
   "execution_count": 11,
   "id": "154fc82f-b218-47c2-8028-05b970b6a782",
   "metadata": {},
   "outputs": [
    {
     "name": "stdout",
     "output_type": "stream",
     "text": [
      " * trino://admin@localhost:8080/default\n",
      "Done.\n"
     ]
    },
    {
     "data": {
      "text/html": [
       "<table>\n",
       "    <thead>\n",
       "        <tr>\n",
       "            <th>Catalog</th>\n",
       "        </tr>\n",
       "    </thead>\n",
       "    <tbody>\n",
       "        <tr>\n",
       "            <td>delta</td>\n",
       "        </tr>\n",
       "        <tr>\n",
       "            <td>hive</td>\n",
       "        </tr>\n",
       "        <tr>\n",
       "            <td>hudi</td>\n",
       "        </tr>\n",
       "        <tr>\n",
       "            <td>iceberg</td>\n",
       "        </tr>\n",
       "        <tr>\n",
       "            <td>minio</td>\n",
       "        </tr>\n",
       "        <tr>\n",
       "            <td>system</td>\n",
       "        </tr>\n",
       "    </tbody>\n",
       "</table>"
      ],
      "text/plain": [
       "[('delta',), ('hive',), ('hudi',), ('iceberg',), ('minio',), ('system',)]"
      ]
     },
     "execution_count": 11,
     "metadata": {},
     "output_type": "execute_result"
    }
   ],
   "source": [
    "%sql SHOW CATALOGS"
   ]
  },
  {
   "cell_type": "code",
   "execution_count": 12,
   "id": "3b9db31f-aba4-4525-be67-1d0333c177af",
   "metadata": {},
   "outputs": [
    {
     "name": "stdout",
     "output_type": "stream",
     "text": [
      " * trino://admin@localhost:8080/default\n",
      "Done.\n"
     ]
    },
    {
     "data": {
      "text/plain": [
       "[]"
      ]
     },
     "execution_count": 12,
     "metadata": {},
     "output_type": "execute_result"
    }
   ],
   "source": [
    "%sql USE hudi.default"
   ]
  },
  {
   "cell_type": "code",
   "execution_count": 13,
   "id": "b8201b34-f4c2-4504-b6d9-9957ffa23609",
   "metadata": {},
   "outputs": [
    {
     "name": "stdout",
     "output_type": "stream",
     "text": [
      " * trino://admin@localhost:8080/default\n",
      "Done.\n"
     ]
    },
    {
     "data": {
      "text/html": [
       "<table>\n",
       "    <thead>\n",
       "        <tr>\n",
       "            <th>Table</th>\n",
       "        </tr>\n",
       "    </thead>\n",
       "    <tbody>\n",
       "        <tr>\n",
       "            <td>customers</td>\n",
       "        </tr>\n",
       "        <tr>\n",
       "            <td>sales</td>\n",
       "        </tr>\n",
       "    </tbody>\n",
       "</table>"
      ],
      "text/plain": [
       "[('customers',), ('sales',)]"
      ]
     },
     "execution_count": 13,
     "metadata": {},
     "output_type": "execute_result"
    }
   ],
   "source": [
    "%sql show tables"
   ]
  },
  {
   "cell_type": "code",
   "execution_count": 14,
   "id": "e8661274-5c7d-447b-8e06-3acbd716538d",
   "metadata": {},
   "outputs": [
    {
     "name": "stdout",
     "output_type": "stream",
     "text": [
      " * trino://admin@localhost:8080/default\n",
      "Done.\n"
     ]
    },
    {
     "data": {
      "text/html": [
       "<table>\n",
       "    <thead>\n",
       "        <tr>\n",
       "            <th>_hoodie_commit_time</th>\n",
       "            <th>_hoodie_commit_seqno</th>\n",
       "            <th>_hoodie_record_key</th>\n",
       "            <th>_hoodie_partition_path</th>\n",
       "            <th>_hoodie_file_name</th>\n",
       "            <th>_change_operation_type</th>\n",
       "            <th>_upstream_event_processed_ts_ms</th>\n",
       "            <th>db_shard_source_partition</th>\n",
       "            <th>db_schema_source_partition</th>\n",
       "            <th>_event_origin_ts_ms</th>\n",
       "            <th>_event_tx_id</th>\n",
       "            <th>_event_lsn</th>\n",
       "            <th>_event_xmin</th>\n",
       "            <th>customer_id</th>\n",
       "            <th>customer_name</th>\n",
       "            <th>customer_address</th>\n",
       "            <th>customer_city</th>\n",
       "            <th>customer_state</th>\n",
       "            <th>customer_zip_code</th>\n",
       "            <th>customer_contact_number</th>\n",
       "            <th>customer_email</th>\n",
       "        </tr>\n",
       "    </thead>\n",
       "    <tbody>\n",
       "        <tr>\n",
       "            <td>20240409140708686</td>\n",
       "            <td>20240409140708686_0_0</td>\n",
       "            <td>7a93d47f-f718-4708-8ed8-5c20c54b42a3</td>\n",
       "            <td></td>\n",
       "            <td>6891181a-5291-4051-aa6a-5b4caa6a0310-0_0-26-28_20240409140708686.parquet</td>\n",
       "            <td>c</td>\n",
       "            <td>1712664960505</td>\n",
       "            <td>hive</td>\n",
       "            <td>public</td>\n",
       "            <td>1712664960406</td>\n",
       "            <td>842</td>\n",
       "            <td>26079272</td>\n",
       "            <td>None</td>\n",
       "            <td>7a93d47f-f718-4708-8ed8-5c20c54b42a3</td>\n",
       "            <td>Pamela Rhodes</td>\n",
       "            <td>521 Garcia Street</td>\n",
       "            <td>Parkerport</td>\n",
       "            <td>Missouri</td>\n",
       "            <td>72379</td>\n",
       "            <td>402.637.4192x3351</td>\n",
       "            <td>scottjulia@example.com</td>\n",
       "        </tr>\n",
       "        <tr>\n",
       "            <td>20240409140708686</td>\n",
       "            <td>20240409140708686_0_1</td>\n",
       "            <td>65cac62d-12fc-4a77-81c9-444a0d1ba17f</td>\n",
       "            <td></td>\n",
       "            <td>6891181a-5291-4051-aa6a-5b4caa6a0310-0_0-26-28_20240409140708686.parquet</td>\n",
       "            <td>c</td>\n",
       "            <td>1712664960507</td>\n",
       "            <td>hive</td>\n",
       "            <td>public</td>\n",
       "            <td>1712664960406</td>\n",
       "            <td>842</td>\n",
       "            <td>26079272</td>\n",
       "            <td>None</td>\n",
       "            <td>65cac62d-12fc-4a77-81c9-444a0d1ba17f</td>\n",
       "            <td>Kimberly Thompson</td>\n",
       "            <td>28802 Rose Corners</td>\n",
       "            <td>Deanchester</td>\n",
       "            <td>Rhode Island</td>\n",
       "            <td>78396</td>\n",
       "            <td>(250)957-9103</td>\n",
       "            <td>marycastillo@example.org</td>\n",
       "        </tr>\n",
       "        <tr>\n",
       "            <td>20240409140708686</td>\n",
       "            <td>20240409140708686_0_2</td>\n",
       "            <td>4105b1b5-fbc5-4129-854d-e1b28cc2f556</td>\n",
       "            <td></td>\n",
       "            <td>6891181a-5291-4051-aa6a-5b4caa6a0310-0_0-26-28_20240409140708686.parquet</td>\n",
       "            <td>c</td>\n",
       "            <td>1712664960509</td>\n",
       "            <td>hive</td>\n",
       "            <td>public</td>\n",
       "            <td>1712664960406</td>\n",
       "            <td>842</td>\n",
       "            <td>26079272</td>\n",
       "            <td>None</td>\n",
       "            <td>4105b1b5-fbc5-4129-854d-e1b28cc2f556</td>\n",
       "            <td>Amanda Robertson</td>\n",
       "            <td>1366 Richards Corner</td>\n",
       "            <td>Douglasberg</td>\n",
       "            <td>Wyoming</td>\n",
       "            <td>43370</td>\n",
       "            <td>(997)488-7531x652</td>\n",
       "            <td>tina28@example.org</td>\n",
       "        </tr>\n",
       "        <tr>\n",
       "            <td>20240409140708686</td>\n",
       "            <td>20240409140708686_0_3</td>\n",
       "            <td>d3ea3c25-050a-4dbb-90dc-db3c59cdddca</td>\n",
       "            <td></td>\n",
       "            <td>6891181a-5291-4051-aa6a-5b4caa6a0310-0_0-26-28_20240409140708686.parquet</td>\n",
       "            <td>c</td>\n",
       "            <td>1712670056981</td>\n",
       "            <td>hive</td>\n",
       "            <td>public</td>\n",
       "            <td>1712670038706</td>\n",
       "            <td>846</td>\n",
       "            <td>26318840</td>\n",
       "            <td>None</td>\n",
       "            <td>d3ea3c25-050a-4dbb-90dc-db3c59cdddca</td>\n",
       "            <td>Erik Wilson</td>\n",
       "            <td>8541 Beck Greens Apt. 554</td>\n",
       "            <td>New Stephaniemouth</td>\n",
       "            <td>Rhode Island</td>\n",
       "            <td>35667</td>\n",
       "            <td>(878)369-7160</td>\n",
       "            <td>justinsmith@example.org</td>\n",
       "        </tr>\n",
       "        <tr>\n",
       "            <td>20240409140708686</td>\n",
       "            <td>20240409140708686_0_4</td>\n",
       "            <td>fcc6cb3c-f054-4b0f-9a8f-8424c12adebe</td>\n",
       "            <td></td>\n",
       "            <td>6891181a-5291-4051-aa6a-5b4caa6a0310-0_0-26-28_20240409140708686.parquet</td>\n",
       "            <td>c</td>\n",
       "            <td>1712664960506</td>\n",
       "            <td>hive</td>\n",
       "            <td>public</td>\n",
       "            <td>1712664960406</td>\n",
       "            <td>842</td>\n",
       "            <td>26079272</td>\n",
       "            <td>None</td>\n",
       "            <td>fcc6cb3c-f054-4b0f-9a8f-8424c12adebe</td>\n",
       "            <td>Kim Bautista</td>\n",
       "            <td>51748 Julia Canyon</td>\n",
       "            <td>East Alexandra</td>\n",
       "            <td>Iowa</td>\n",
       "            <td>53126</td>\n",
       "            <td>836.935.0117</td>\n",
       "            <td>brenda95@example.net</td>\n",
       "        </tr>\n",
       "        <tr>\n",
       "            <td>20240409140708686</td>\n",
       "            <td>20240409140708686_0_5</td>\n",
       "            <td>bd7312df-80d4-4857-ae79-fad668634dea</td>\n",
       "            <td></td>\n",
       "            <td>6891181a-5291-4051-aa6a-5b4caa6a0310-0_0-26-28_20240409140708686.parquet</td>\n",
       "            <td>c</td>\n",
       "            <td>1712670056986</td>\n",
       "            <td>hive</td>\n",
       "            <td>public</td>\n",
       "            <td>1712670038706</td>\n",
       "            <td>846</td>\n",
       "            <td>26318840</td>\n",
       "            <td>None</td>\n",
       "            <td>bd7312df-80d4-4857-ae79-fad668634dea</td>\n",
       "            <td>Jason Hernandez</td>\n",
       "            <td>8616 Fisher Crescent</td>\n",
       "            <td>North Jacquelinebury</td>\n",
       "            <td>Kansas</td>\n",
       "            <td>89026</td>\n",
       "            <td>+1-418-286-7552x322</td>\n",
       "            <td>fbeasley@example.net</td>\n",
       "        </tr>\n",
       "        <tr>\n",
       "            <td>20240409140708686</td>\n",
       "            <td>20240409140708686_0_6</td>\n",
       "            <td>abc6809e-8eaa-488d-8f4a-4d1605e8ce91</td>\n",
       "            <td></td>\n",
       "            <td>6891181a-5291-4051-aa6a-5b4caa6a0310-0_0-26-28_20240409140708686.parquet</td>\n",
       "            <td>c</td>\n",
       "            <td>1712670056988</td>\n",
       "            <td>hive</td>\n",
       "            <td>public</td>\n",
       "            <td>1712670038706</td>\n",
       "            <td>846</td>\n",
       "            <td>26318840</td>\n",
       "            <td>None</td>\n",
       "            <td>abc6809e-8eaa-488d-8f4a-4d1605e8ce91</td>\n",
       "            <td>Traci Jimenez</td>\n",
       "            <td>014 Davies Islands</td>\n",
       "            <td>Susanshire</td>\n",
       "            <td>Colorado</td>\n",
       "            <td>77811</td>\n",
       "            <td>001-580-940-1384</td>\n",
       "            <td>tyler92@example.com</td>\n",
       "        </tr>\n",
       "        <tr>\n",
       "            <td>20240409140708686</td>\n",
       "            <td>20240409140708686_0_7</td>\n",
       "            <td>95fa2731-0290-4bbe-a377-8cf2c7c56cb1</td>\n",
       "            <td></td>\n",
       "            <td>6891181a-5291-4051-aa6a-5b4caa6a0310-0_0-26-28_20240409140708686.parquet</td>\n",
       "            <td>c</td>\n",
       "            <td>1712670056984</td>\n",
       "            <td>hive</td>\n",
       "            <td>public</td>\n",
       "            <td>1712670038706</td>\n",
       "            <td>846</td>\n",
       "            <td>26318840</td>\n",
       "            <td>None</td>\n",
       "            <td>95fa2731-0290-4bbe-a377-8cf2c7c56cb1</td>\n",
       "            <td>Jeffrey Whitaker</td>\n",
       "            <td>339 Garrison Estates</td>\n",
       "            <td>New Michelle</td>\n",
       "            <td>Maine</td>\n",
       "            <td>96524</td>\n",
       "            <td>001-464-802-1039</td>\n",
       "            <td>sharonwade@example.net</td>\n",
       "        </tr>\n",
       "        <tr>\n",
       "            <td>20240409140708686</td>\n",
       "            <td>20240409140708686_0_8</td>\n",
       "            <td>696490b8-8d35-44c3-b500-deef6219ec1f</td>\n",
       "            <td></td>\n",
       "            <td>6891181a-5291-4051-aa6a-5b4caa6a0310-0_0-26-28_20240409140708686.parquet</td>\n",
       "            <td>c</td>\n",
       "            <td>1712664960511</td>\n",
       "            <td>hive</td>\n",
       "            <td>public</td>\n",
       "            <td>1712664960406</td>\n",
       "            <td>842</td>\n",
       "            <td>26079272</td>\n",
       "            <td>None</td>\n",
       "            <td>696490b8-8d35-44c3-b500-deef6219ec1f</td>\n",
       "            <td>Debra Rose</td>\n",
       "            <td>43581 Alexander Plains Apt. 327</td>\n",
       "            <td>Gonzalesside</td>\n",
       "            <td>Delaware</td>\n",
       "            <td>31702</td>\n",
       "            <td>+1-493-240-6830x0013</td>\n",
       "            <td>mary67@example.com</td>\n",
       "        </tr>\n",
       "        <tr>\n",
       "            <td>20240409140708686</td>\n",
       "            <td>20240409140708686_0_9</td>\n",
       "            <td>446dc7a4-63d6-4709-ad41-7dc4eebe5d1c</td>\n",
       "            <td></td>\n",
       "            <td>6891181a-5291-4051-aa6a-5b4caa6a0310-0_0-26-28_20240409140708686.parquet</td>\n",
       "            <td>c</td>\n",
       "            <td>1712664960511</td>\n",
       "            <td>hive</td>\n",
       "            <td>public</td>\n",
       "            <td>1712664960406</td>\n",
       "            <td>842</td>\n",
       "            <td>26079272</td>\n",
       "            <td>None</td>\n",
       "            <td>446dc7a4-63d6-4709-ad41-7dc4eebe5d1c</td>\n",
       "            <td>Donald Phelps</td>\n",
       "            <td>9894 Teresa Cliffs Suite 853</td>\n",
       "            <td>South Ronald</td>\n",
       "            <td>New Mexico</td>\n",
       "            <td>68844</td>\n",
       "            <td>+1-887-461-2821x9269</td>\n",
       "            <td>caroline72@example.net</td>\n",
       "        </tr>\n",
       "        <tr>\n",
       "            <td>20240409140708686</td>\n",
       "            <td>20240409140708686_0_10</td>\n",
       "            <td>3ec6f364-43fc-490c-8f00-07bb57ad81a8</td>\n",
       "            <td></td>\n",
       "            <td>6891181a-5291-4051-aa6a-5b4caa6a0310-0_0-26-28_20240409140708686.parquet</td>\n",
       "            <td>c</td>\n",
       "            <td>1712664960510</td>\n",
       "            <td>hive</td>\n",
       "            <td>public</td>\n",
       "            <td>1712664960406</td>\n",
       "            <td>842</td>\n",
       "            <td>26079272</td>\n",
       "            <td>None</td>\n",
       "            <td>3ec6f364-43fc-490c-8f00-07bb57ad81a8</td>\n",
       "            <td>Steven Kelly</td>\n",
       "            <td>31416 Jennifer Route</td>\n",
       "            <td>Stricklandberg</td>\n",
       "            <td>New Jersey</td>\n",
       "            <td>42104</td>\n",
       "            <td>001-914-878-9452x54734</td>\n",
       "            <td>aaron91@example.net</td>\n",
       "        </tr>\n",
       "        <tr>\n",
       "            <td>20240409140708686</td>\n",
       "            <td>20240409140708686_0_11</td>\n",
       "            <td>97c03f8d-85d5-49cc-ba54-36c6a8c8f8ed</td>\n",
       "            <td></td>\n",
       "            <td>6891181a-5291-4051-aa6a-5b4caa6a0310-0_0-26-28_20240409140708686.parquet</td>\n",
       "            <td>c</td>\n",
       "            <td>1712664960510</td>\n",
       "            <td>hive</td>\n",
       "            <td>public</td>\n",
       "            <td>1712664960406</td>\n",
       "            <td>842</td>\n",
       "            <td>26079272</td>\n",
       "            <td>None</td>\n",
       "            <td>97c03f8d-85d5-49cc-ba54-36c6a8c8f8ed</td>\n",
       "            <td>Jacqueline Anderson</td>\n",
       "            <td>793 Schmidt Greens Apt. 477</td>\n",
       "            <td>East Christopher</td>\n",
       "            <td>Massachusetts</td>\n",
       "            <td>74223</td>\n",
       "            <td>(569)233-4510x314</td>\n",
       "            <td>john54@example.net</td>\n",
       "        </tr>\n",
       "        <tr>\n",
       "            <td>20240409140708686</td>\n",
       "            <td>20240409140708686_0_12</td>\n",
       "            <td>c6ca135b-3acc-42ca-ac3b-0309c1b5b745</td>\n",
       "            <td></td>\n",
       "            <td>6891181a-5291-4051-aa6a-5b4caa6a0310-0_0-26-28_20240409140708686.parquet</td>\n",
       "            <td>c</td>\n",
       "            <td>1712670056979</td>\n",
       "            <td>hive</td>\n",
       "            <td>public</td>\n",
       "            <td>1712670038706</td>\n",
       "            <td>846</td>\n",
       "            <td>26318840</td>\n",
       "            <td>None</td>\n",
       "            <td>c6ca135b-3acc-42ca-ac3b-0309c1b5b745</td>\n",
       "            <td>Linda Thomas</td>\n",
       "            <td>248 Pacheco Extensions</td>\n",
       "            <td>New Sarah</td>\n",
       "            <td>Vermont</td>\n",
       "            <td>16018</td>\n",
       "            <td>(581)481-0817x8166</td>\n",
       "            <td>fhensley@example.com</td>\n",
       "        </tr>\n",
       "        <tr>\n",
       "            <td>20240409140708686</td>\n",
       "            <td>20240409140708686_0_13</td>\n",
       "            <td>e20fa2ab-c976-4cc0-8c56-564444bbb438</td>\n",
       "            <td></td>\n",
       "            <td>6891181a-5291-4051-aa6a-5b4caa6a0310-0_0-26-28_20240409140708686.parquet</td>\n",
       "            <td>c</td>\n",
       "            <td>1712670056985</td>\n",
       "            <td>hive</td>\n",
       "            <td>public</td>\n",
       "            <td>1712670038706</td>\n",
       "            <td>846</td>\n",
       "            <td>26318840</td>\n",
       "            <td>None</td>\n",
       "            <td>e20fa2ab-c976-4cc0-8c56-564444bbb438</td>\n",
       "            <td>Samuel Morales</td>\n",
       "            <td>2721 Elizabeth Fork</td>\n",
       "            <td>West Charlesshire</td>\n",
       "            <td>South Dakota</td>\n",
       "            <td>49144</td>\n",
       "            <td>001-683-930-8087</td>\n",
       "            <td>ithomas@example.com</td>\n",
       "        </tr>\n",
       "        <tr>\n",
       "            <td>20240409140708686</td>\n",
       "            <td>20240409140708686_0_14</td>\n",
       "            <td>fe8eed5b-ee73-4d1b-b842-f4ef1afb925b</td>\n",
       "            <td></td>\n",
       "            <td>6891181a-5291-4051-aa6a-5b4caa6a0310-0_0-26-28_20240409140708686.parquet</td>\n",
       "            <td>c</td>\n",
       "            <td>1712664960507</td>\n",
       "            <td>hive</td>\n",
       "            <td>public</td>\n",
       "            <td>1712664960406</td>\n",
       "            <td>842</td>\n",
       "            <td>26079272</td>\n",
       "            <td>None</td>\n",
       "            <td>fe8eed5b-ee73-4d1b-b842-f4ef1afb925b</td>\n",
       "            <td>Michelle Freeman</td>\n",
       "            <td>21896 Sara Field Apt. 753</td>\n",
       "            <td>Reevesfort</td>\n",
       "            <td>Washington</td>\n",
       "            <td>38405</td>\n",
       "            <td>001-279-755-6448x8566</td>\n",
       "            <td>jessica69@example.com</td>\n",
       "        </tr>\n",
       "        <tr>\n",
       "            <td>20240409140708686</td>\n",
       "            <td>20240409140708686_0_15</td>\n",
       "            <td>3ce16f8f-d5c3-4ef0-a64c-944eb52d4c79</td>\n",
       "            <td></td>\n",
       "            <td>6891181a-5291-4051-aa6a-5b4caa6a0310-0_0-26-28_20240409140708686.parquet</td>\n",
       "            <td>c</td>\n",
       "            <td>1712670056989</td>\n",
       "            <td>hive</td>\n",
       "            <td>public</td>\n",
       "            <td>1712670038706</td>\n",
       "            <td>846</td>\n",
       "            <td>26318840</td>\n",
       "            <td>None</td>\n",
       "            <td>3ce16f8f-d5c3-4ef0-a64c-944eb52d4c79</td>\n",
       "            <td>Alicia Johns</td>\n",
       "            <td>2876 Jacob Divide Suite 848</td>\n",
       "            <td>Adambury</td>\n",
       "            <td>Alabama</td>\n",
       "            <td>25516</td>\n",
       "            <td>+1-279-955-7657x8904</td>\n",
       "            <td>coxjames@example.com</td>\n",
       "        </tr>\n",
       "        <tr>\n",
       "            <td>20240409140708686</td>\n",
       "            <td>20240409140708686_0_16</td>\n",
       "            <td>0ba77b58-13a3-46f8-9a4a-2fc40b04f224</td>\n",
       "            <td></td>\n",
       "            <td>6891181a-5291-4051-aa6a-5b4caa6a0310-0_0-26-28_20240409140708686.parquet</td>\n",
       "            <td>c</td>\n",
       "            <td>1712670056989</td>\n",
       "            <td>hive</td>\n",
       "            <td>public</td>\n",
       "            <td>1712670038706</td>\n",
       "            <td>846</td>\n",
       "            <td>26318840</td>\n",
       "            <td>None</td>\n",
       "            <td>0ba77b58-13a3-46f8-9a4a-2fc40b04f224</td>\n",
       "            <td>Mary Moore</td>\n",
       "            <td>54082 Amanda Coves Suite 659</td>\n",
       "            <td>East Jacob</td>\n",
       "            <td>New York</td>\n",
       "            <td>31935</td>\n",
       "            <td>(513)331-2325</td>\n",
       "            <td>garciajohn@example.net</td>\n",
       "        </tr>\n",
       "        <tr>\n",
       "            <td>20240409140708686</td>\n",
       "            <td>20240409140708686_0_17</td>\n",
       "            <td>1d0b4bca-de44-40d5-ae06-dc52a54e860f</td>\n",
       "            <td></td>\n",
       "            <td>6891181a-5291-4051-aa6a-5b4caa6a0310-0_0-26-28_20240409140708686.parquet</td>\n",
       "            <td>c</td>\n",
       "            <td>1712670056983</td>\n",
       "            <td>hive</td>\n",
       "            <td>public</td>\n",
       "            <td>1712670038706</td>\n",
       "            <td>846</td>\n",
       "            <td>26318840</td>\n",
       "            <td>None</td>\n",
       "            <td>1d0b4bca-de44-40d5-ae06-dc52a54e860f</td>\n",
       "            <td>Susan Barker</td>\n",
       "            <td>690 Tami Park Suite 040</td>\n",
       "            <td>Kennedymouth</td>\n",
       "            <td>North Dakota</td>\n",
       "            <td>82216</td>\n",
       "            <td>001-792-451-0476</td>\n",
       "            <td>michael00@example.org</td>\n",
       "        </tr>\n",
       "        <tr>\n",
       "            <td>20240409140708686</td>\n",
       "            <td>20240409140708686_0_18</td>\n",
       "            <td>9ec06822-3208-4a09-bb20-f4179a3f109a</td>\n",
       "            <td></td>\n",
       "            <td>6891181a-5291-4051-aa6a-5b4caa6a0310-0_0-26-28_20240409140708686.parquet</td>\n",
       "            <td>c</td>\n",
       "            <td>1712664960506</td>\n",
       "            <td>hive</td>\n",
       "            <td>public</td>\n",
       "            <td>1712664960406</td>\n",
       "            <td>842</td>\n",
       "            <td>26079272</td>\n",
       "            <td>None</td>\n",
       "            <td>9ec06822-3208-4a09-bb20-f4179a3f109a</td>\n",
       "            <td>Joyce Martin</td>\n",
       "            <td>9459 Duran Garden</td>\n",
       "            <td>East Sherry</td>\n",
       "            <td>Louisiana</td>\n",
       "            <td>25025</td>\n",
       "            <td>001-465-701-4129x7262</td>\n",
       "            <td>cardenasrobert@example.com</td>\n",
       "        </tr>\n",
       "        <tr>\n",
       "            <td>20240409140708686</td>\n",
       "            <td>20240409140708686_0_19</td>\n",
       "            <td>5c438e40-2da6-44b7-ba60-3dca55c6b3f8</td>\n",
       "            <td></td>\n",
       "            <td>6891181a-5291-4051-aa6a-5b4caa6a0310-0_0-26-28_20240409140708686.parquet</td>\n",
       "            <td>c</td>\n",
       "            <td>1712670056987</td>\n",
       "            <td>hive</td>\n",
       "            <td>public</td>\n",
       "            <td>1712670038706</td>\n",
       "            <td>846</td>\n",
       "            <td>26318840</td>\n",
       "            <td>None</td>\n",
       "            <td>5c438e40-2da6-44b7-ba60-3dca55c6b3f8</td>\n",
       "            <td>Steven Roberts</td>\n",
       "            <td>5233 Jones Islands Suite 137</td>\n",
       "            <td>New Morganside</td>\n",
       "            <td>Virginia</td>\n",
       "            <td>06827</td>\n",
       "            <td>6409500480</td>\n",
       "            <td>fisheremily@example.com</td>\n",
       "        </tr>\n",
       "    </tbody>\n",
       "</table>"
      ],
      "text/plain": [
       "[('20240409140708686', '20240409140708686_0_0', '7a93d47f-f718-4708-8ed8-5c20c54b42a3', '', '6891181a-5291-4051-aa6a-5b4caa6a0310-0_0-26-28_20240409140708686.parquet', 'c', 1712664960505, 'hive', 'public', 1712664960406, 842, 26079272, None, '7a93d47f-f718-4708-8ed8-5c20c54b42a3', 'Pamela Rhodes', '521 Garcia Street', 'Parkerport', 'Missouri', '72379', '402.637.4192x3351', 'scottjulia@example.com'),\n",
       " ('20240409140708686', '20240409140708686_0_1', '65cac62d-12fc-4a77-81c9-444a0d1ba17f', '', '6891181a-5291-4051-aa6a-5b4caa6a0310-0_0-26-28_20240409140708686.parquet', 'c', 1712664960507, 'hive', 'public', 1712664960406, 842, 26079272, None, '65cac62d-12fc-4a77-81c9-444a0d1ba17f', 'Kimberly Thompson', '28802 Rose Corners', 'Deanchester', 'Rhode Island', '78396', '(250)957-9103', 'marycastillo@example.org'),\n",
       " ('20240409140708686', '20240409140708686_0_2', '4105b1b5-fbc5-4129-854d-e1b28cc2f556', '', '6891181a-5291-4051-aa6a-5b4caa6a0310-0_0-26-28_20240409140708686.parquet', 'c', 1712664960509, 'hive', 'public', 1712664960406, 842, 26079272, None, '4105b1b5-fbc5-4129-854d-e1b28cc2f556', 'Amanda Robertson', '1366 Richards Corner', 'Douglasberg', 'Wyoming', '43370', '(997)488-7531x652', 'tina28@example.org'),\n",
       " ('20240409140708686', '20240409140708686_0_3', 'd3ea3c25-050a-4dbb-90dc-db3c59cdddca', '', '6891181a-5291-4051-aa6a-5b4caa6a0310-0_0-26-28_20240409140708686.parquet', 'c', 1712670056981, 'hive', 'public', 1712670038706, 846, 26318840, None, 'd3ea3c25-050a-4dbb-90dc-db3c59cdddca', 'Erik Wilson', '8541 Beck Greens Apt. 554', 'New Stephaniemouth', 'Rhode Island', '35667', '(878)369-7160', 'justinsmith@example.org'),\n",
       " ('20240409140708686', '20240409140708686_0_4', 'fcc6cb3c-f054-4b0f-9a8f-8424c12adebe', '', '6891181a-5291-4051-aa6a-5b4caa6a0310-0_0-26-28_20240409140708686.parquet', 'c', 1712664960506, 'hive', 'public', 1712664960406, 842, 26079272, None, 'fcc6cb3c-f054-4b0f-9a8f-8424c12adebe', 'Kim Bautista', '51748 Julia Canyon', 'East Alexandra', 'Iowa', '53126', '836.935.0117', 'brenda95@example.net'),\n",
       " ('20240409140708686', '20240409140708686_0_5', 'bd7312df-80d4-4857-ae79-fad668634dea', '', '6891181a-5291-4051-aa6a-5b4caa6a0310-0_0-26-28_20240409140708686.parquet', 'c', 1712670056986, 'hive', 'public', 1712670038706, 846, 26318840, None, 'bd7312df-80d4-4857-ae79-fad668634dea', 'Jason Hernandez', '8616 Fisher Crescent', 'North Jacquelinebury', 'Kansas', '89026', '+1-418-286-7552x322', 'fbeasley@example.net'),\n",
       " ('20240409140708686', '20240409140708686_0_6', 'abc6809e-8eaa-488d-8f4a-4d1605e8ce91', '', '6891181a-5291-4051-aa6a-5b4caa6a0310-0_0-26-28_20240409140708686.parquet', 'c', 1712670056988, 'hive', 'public', 1712670038706, 846, 26318840, None, 'abc6809e-8eaa-488d-8f4a-4d1605e8ce91', 'Traci Jimenez', '014 Davies Islands', 'Susanshire', 'Colorado', '77811', '001-580-940-1384', 'tyler92@example.com'),\n",
       " ('20240409140708686', '20240409140708686_0_7', '95fa2731-0290-4bbe-a377-8cf2c7c56cb1', '', '6891181a-5291-4051-aa6a-5b4caa6a0310-0_0-26-28_20240409140708686.parquet', 'c', 1712670056984, 'hive', 'public', 1712670038706, 846, 26318840, None, '95fa2731-0290-4bbe-a377-8cf2c7c56cb1', 'Jeffrey Whitaker', '339 Garrison Estates', 'New Michelle', 'Maine', '96524', '001-464-802-1039', 'sharonwade@example.net'),\n",
       " ('20240409140708686', '20240409140708686_0_8', '696490b8-8d35-44c3-b500-deef6219ec1f', '', '6891181a-5291-4051-aa6a-5b4caa6a0310-0_0-26-28_20240409140708686.parquet', 'c', 1712664960511, 'hive', 'public', 1712664960406, 842, 26079272, None, '696490b8-8d35-44c3-b500-deef6219ec1f', 'Debra Rose', '43581 Alexander Plains Apt. 327', 'Gonzalesside', 'Delaware', '31702', '+1-493-240-6830x0013', 'mary67@example.com'),\n",
       " ('20240409140708686', '20240409140708686_0_9', '446dc7a4-63d6-4709-ad41-7dc4eebe5d1c', '', '6891181a-5291-4051-aa6a-5b4caa6a0310-0_0-26-28_20240409140708686.parquet', 'c', 1712664960511, 'hive', 'public', 1712664960406, 842, 26079272, None, '446dc7a4-63d6-4709-ad41-7dc4eebe5d1c', 'Donald Phelps', '9894 Teresa Cliffs Suite 853', 'South Ronald', 'New Mexico', '68844', '+1-887-461-2821x9269', 'caroline72@example.net'),\n",
       " ('20240409140708686', '20240409140708686_0_10', '3ec6f364-43fc-490c-8f00-07bb57ad81a8', '', '6891181a-5291-4051-aa6a-5b4caa6a0310-0_0-26-28_20240409140708686.parquet', 'c', 1712664960510, 'hive', 'public', 1712664960406, 842, 26079272, None, '3ec6f364-43fc-490c-8f00-07bb57ad81a8', 'Steven Kelly', '31416 Jennifer Route', 'Stricklandberg', 'New Jersey', '42104', '001-914-878-9452x54734', 'aaron91@example.net'),\n",
       " ('20240409140708686', '20240409140708686_0_11', '97c03f8d-85d5-49cc-ba54-36c6a8c8f8ed', '', '6891181a-5291-4051-aa6a-5b4caa6a0310-0_0-26-28_20240409140708686.parquet', 'c', 1712664960510, 'hive', 'public', 1712664960406, 842, 26079272, None, '97c03f8d-85d5-49cc-ba54-36c6a8c8f8ed', 'Jacqueline Anderson', '793 Schmidt Greens Apt. 477', 'East Christopher', 'Massachusetts', '74223', '(569)233-4510x314', 'john54@example.net'),\n",
       " ('20240409140708686', '20240409140708686_0_12', 'c6ca135b-3acc-42ca-ac3b-0309c1b5b745', '', '6891181a-5291-4051-aa6a-5b4caa6a0310-0_0-26-28_20240409140708686.parquet', 'c', 1712670056979, 'hive', 'public', 1712670038706, 846, 26318840, None, 'c6ca135b-3acc-42ca-ac3b-0309c1b5b745', 'Linda Thomas', '248 Pacheco Extensions', 'New Sarah', 'Vermont', '16018', '(581)481-0817x8166', 'fhensley@example.com'),\n",
       " ('20240409140708686', '20240409140708686_0_13', 'e20fa2ab-c976-4cc0-8c56-564444bbb438', '', '6891181a-5291-4051-aa6a-5b4caa6a0310-0_0-26-28_20240409140708686.parquet', 'c', 1712670056985, 'hive', 'public', 1712670038706, 846, 26318840, None, 'e20fa2ab-c976-4cc0-8c56-564444bbb438', 'Samuel Morales', '2721 Elizabeth Fork', 'West Charlesshire', 'South Dakota', '49144', '001-683-930-8087', 'ithomas@example.com'),\n",
       " ('20240409140708686', '20240409140708686_0_14', 'fe8eed5b-ee73-4d1b-b842-f4ef1afb925b', '', '6891181a-5291-4051-aa6a-5b4caa6a0310-0_0-26-28_20240409140708686.parquet', 'c', 1712664960507, 'hive', 'public', 1712664960406, 842, 26079272, None, 'fe8eed5b-ee73-4d1b-b842-f4ef1afb925b', 'Michelle Freeman', '21896 Sara Field Apt. 753', 'Reevesfort', 'Washington', '38405', '001-279-755-6448x8566', 'jessica69@example.com'),\n",
       " ('20240409140708686', '20240409140708686_0_15', '3ce16f8f-d5c3-4ef0-a64c-944eb52d4c79', '', '6891181a-5291-4051-aa6a-5b4caa6a0310-0_0-26-28_20240409140708686.parquet', 'c', 1712670056989, 'hive', 'public', 1712670038706, 846, 26318840, None, '3ce16f8f-d5c3-4ef0-a64c-944eb52d4c79', 'Alicia Johns', '2876 Jacob Divide Suite 848', 'Adambury', 'Alabama', '25516', '+1-279-955-7657x8904', 'coxjames@example.com'),\n",
       " ('20240409140708686', '20240409140708686_0_16', '0ba77b58-13a3-46f8-9a4a-2fc40b04f224', '', '6891181a-5291-4051-aa6a-5b4caa6a0310-0_0-26-28_20240409140708686.parquet', 'c', 1712670056989, 'hive', 'public', 1712670038706, 846, 26318840, None, '0ba77b58-13a3-46f8-9a4a-2fc40b04f224', 'Mary Moore', '54082 Amanda Coves Suite 659', 'East Jacob', 'New York', '31935', '(513)331-2325', 'garciajohn@example.net'),\n",
       " ('20240409140708686', '20240409140708686_0_17', '1d0b4bca-de44-40d5-ae06-dc52a54e860f', '', '6891181a-5291-4051-aa6a-5b4caa6a0310-0_0-26-28_20240409140708686.parquet', 'c', 1712670056983, 'hive', 'public', 1712670038706, 846, 26318840, None, '1d0b4bca-de44-40d5-ae06-dc52a54e860f', 'Susan Barker', '690 Tami Park Suite 040', 'Kennedymouth', 'North Dakota', '82216', '001-792-451-0476', 'michael00@example.org'),\n",
       " ('20240409140708686', '20240409140708686_0_18', '9ec06822-3208-4a09-bb20-f4179a3f109a', '', '6891181a-5291-4051-aa6a-5b4caa6a0310-0_0-26-28_20240409140708686.parquet', 'c', 1712664960506, 'hive', 'public', 1712664960406, 842, 26079272, None, '9ec06822-3208-4a09-bb20-f4179a3f109a', 'Joyce Martin', '9459 Duran Garden', 'East Sherry', 'Louisiana', '25025', '001-465-701-4129x7262', 'cardenasrobert@example.com'),\n",
       " ('20240409140708686', '20240409140708686_0_19', '5c438e40-2da6-44b7-ba60-3dca55c6b3f8', '', '6891181a-5291-4051-aa6a-5b4caa6a0310-0_0-26-28_20240409140708686.parquet', 'c', 1712670056987, 'hive', 'public', 1712670038706, 846, 26318840, None, '5c438e40-2da6-44b7-ba60-3dca55c6b3f8', 'Steven Roberts', '5233 Jones Islands Suite 137', 'New Morganside', 'Virginia', '06827', '6409500480', 'fisheremily@example.com')]"
      ]
     },
     "execution_count": 14,
     "metadata": {},
     "output_type": "execute_result"
    }
   ],
   "source": [
    "%sql select * from customers"
   ]
  },
  {
   "cell_type": "code",
   "execution_count": 7,
   "id": "3e49e25d-5423-437a-9118-bc918c0d153e",
   "metadata": {},
   "outputs": [
    {
     "name": "stdout",
     "output_type": "stream",
     "text": [
      " * trino://admin@localhost:8080/default\n",
      "Done.\n"
     ]
    },
    {
     "data": {
      "text/html": [
       "<table>\n",
       "    <thead>\n",
       "        <tr>\n",
       "            <th>salesid</th>\n",
       "            <th>referral</th>\n",
       "        </tr>\n",
       "    </thead>\n",
       "    <tbody>\n",
       "        <tr>\n",
       "            <td>1</td>\n",
       "            <td>Friend</td>\n",
       "        </tr>\n",
       "        <tr>\n",
       "            <td>3</td>\n",
       "            <td>WordOfMouth</td>\n",
       "        </tr>\n",
       "        <tr>\n",
       "            <td>5</td>\n",
       "            <td>WordOfMouth</td>\n",
       "        </tr>\n",
       "        <tr>\n",
       "            <td>2</td>\n",
       "            <td>OnlineAd</td>\n",
       "        </tr>\n",
       "        <tr>\n",
       "            <td>4</td>\n",
       "            <td>SocialMedia</td>\n",
       "        </tr>\n",
       "    </tbody>\n",
       "</table>"
      ],
      "text/plain": [
       "[(1, 'Friend'),\n",
       " (3, 'WordOfMouth'),\n",
       " (5, 'WordOfMouth'),\n",
       " (2, 'OnlineAd'),\n",
       " (4, 'SocialMedia')]"
      ]
     },
     "execution_count": 7,
     "metadata": {},
     "output_type": "execute_result"
    }
   ],
   "source": [
    "%sql SELECT salesid,referral  FROM sales "
   ]
  },
  {
   "cell_type": "markdown",
   "id": "889dd4c8-8c76-481d-859a-75457967e159",
   "metadata": {},
   "source": [
    " %sql describe  sales"
   ]
  },
  {
   "cell_type": "markdown",
   "id": "4deaad12-8e98-45d7-9950-dc396074f1d7",
   "metadata": {},
   "source": [
    "# Delta"
   ]
  },
  {
   "cell_type": "code",
   "execution_count": 8,
   "id": "cf25c610-508a-4dbb-a35f-492827a21562",
   "metadata": {},
   "outputs": [
    {
     "name": "stdout",
     "output_type": "stream",
     "text": [
      " * trino://admin@localhost:8080/default\n",
      "Done.\n"
     ]
    },
    {
     "data": {
      "text/html": [
       "<table>\n",
       "    <thead>\n",
       "        <tr>\n",
       "            <th>Catalog</th>\n",
       "        </tr>\n",
       "    </thead>\n",
       "    <tbody>\n",
       "        <tr>\n",
       "            <td>delta</td>\n",
       "        </tr>\n",
       "        <tr>\n",
       "            <td>hive</td>\n",
       "        </tr>\n",
       "        <tr>\n",
       "            <td>hudi</td>\n",
       "        </tr>\n",
       "        <tr>\n",
       "            <td>iceberg</td>\n",
       "        </tr>\n",
       "        <tr>\n",
       "            <td>minio</td>\n",
       "        </tr>\n",
       "        <tr>\n",
       "            <td>system</td>\n",
       "        </tr>\n",
       "    </tbody>\n",
       "</table>"
      ],
      "text/plain": [
       "[('delta',), ('hive',), ('hudi',), ('iceberg',), ('minio',), ('system',)]"
      ]
     },
     "execution_count": 8,
     "metadata": {},
     "output_type": "execute_result"
    }
   ],
   "source": [
    "%sql SHOW CATALOGS"
   ]
  },
  {
   "cell_type": "code",
   "execution_count": 10,
   "id": "7d50291f-4a39-48b0-8487-5854ad855d2c",
   "metadata": {},
   "outputs": [
    {
     "name": "stdout",
     "output_type": "stream",
     "text": [
      " * trino://admin@localhost:8080/default\n",
      "Done.\n"
     ]
    },
    {
     "data": {
      "text/plain": [
       "[]"
      ]
     },
     "execution_count": 10,
     "metadata": {},
     "output_type": "execute_result"
    }
   ],
   "source": [
    "%sql USE delta.delta_db"
   ]
  },
  {
   "cell_type": "code",
   "execution_count": 11,
   "id": "f957d773-8634-4019-a586-003fcac2aa88",
   "metadata": {},
   "outputs": [
    {
     "name": "stdout",
     "output_type": "stream",
     "text": [
      " * trino://admin@localhost:8080/default\n",
      "Done.\n"
     ]
    },
    {
     "data": {
      "text/html": [
       "<table>\n",
       "    <thead>\n",
       "        <tr>\n",
       "            <th>Table</th>\n",
       "        </tr>\n",
       "    </thead>\n",
       "    <tbody>\n",
       "        <tr>\n",
       "            <td>delta_sales</td>\n",
       "        </tr>\n",
       "    </tbody>\n",
       "</table>"
      ],
      "text/plain": [
       "[('delta_sales',)]"
      ]
     },
     "execution_count": 11,
     "metadata": {},
     "output_type": "execute_result"
    }
   ],
   "source": [
    "%sql show tables"
   ]
  },
  {
   "cell_type": "code",
   "execution_count": 12,
   "id": "72bab063-765a-4a5c-9e6b-16d8625b195b",
   "metadata": {},
   "outputs": [
    {
     "name": "stdout",
     "output_type": "stream",
     "text": [
      " * trino://admin@localhost:8080/default\n",
      "Done.\n"
     ]
    },
    {
     "data": {
      "text/html": [
       "<table>\n",
       "    <thead>\n",
       "        <tr>\n",
       "            <th>_hoodie_commit_time</th>\n",
       "            <th>_hoodie_commit_seqno</th>\n",
       "            <th>_hoodie_record_key</th>\n",
       "            <th>_hoodie_partition_path</th>\n",
       "            <th>_hoodie_file_name</th>\n",
       "            <th>_change_operation_type</th>\n",
       "            <th>_upstream_event_processed_ts_ms</th>\n",
       "            <th>db_shard_source_partition</th>\n",
       "            <th>db_schema_source_partition</th>\n",
       "            <th>_event_origin_ts_ms</th>\n",
       "            <th>_event_tx_id</th>\n",
       "            <th>_event_lsn</th>\n",
       "            <th>_event_xmin</th>\n",
       "            <th>salesid</th>\n",
       "            <th>invoiceid</th>\n",
       "            <th>itemid</th>\n",
       "            <th>category</th>\n",
       "            <th>price</th>\n",
       "            <th>quantity</th>\n",
       "            <th>orderdate</th>\n",
       "            <th>destinationstate</th>\n",
       "            <th>shippingtype</th>\n",
       "            <th>referral</th>\n",
       "            <th>updated_at</th>\n",
       "        </tr>\n",
       "    </thead>\n",
       "    <tbody>\n",
       "        <tr>\n",
       "            <td>20240409120804776</td>\n",
       "            <td>20240409120804776_0_0</td>\n",
       "            <td>1</td>\n",
       "            <td></td>\n",
       "            <td>3854015c-8a7b-449b-aea2-8e7a1f42d121-0_0-26-28_20240409120804776.parquet</td>\n",
       "            <td>r</td>\n",
       "            <td>1712664387642</td>\n",
       "            <td>hive</td>\n",
       "            <td>public</td>\n",
       "            <td>1712664387633</td>\n",
       "            <td>832</td>\n",
       "            <td>25906192</td>\n",
       "            <td>None</td>\n",
       "            <td>1</td>\n",
       "            <td>101</td>\n",
       "            <td>1</td>\n",
       "            <td>Electronics</td>\n",
       "            <td>599.99</td>\n",
       "            <td>2</td>\n",
       "            <td>19682</td>\n",
       "            <td>California</td>\n",
       "            <td>Express</td>\n",
       "            <td>Friend</td>\n",
       "            <td>1712663944421609</td>\n",
       "        </tr>\n",
       "        <tr>\n",
       "            <td>20240409120804776</td>\n",
       "            <td>20240409120804776_0_1</td>\n",
       "            <td>3</td>\n",
       "            <td></td>\n",
       "            <td>3854015c-8a7b-449b-aea2-8e7a1f42d121-0_0-26-28_20240409120804776.parquet</td>\n",
       "            <td>r</td>\n",
       "            <td>1712664387643</td>\n",
       "            <td>hive</td>\n",
       "            <td>public</td>\n",
       "            <td>1712664387643</td>\n",
       "            <td>832</td>\n",
       "            <td>25906192</td>\n",
       "            <td>None</td>\n",
       "            <td>3</td>\n",
       "            <td>103</td>\n",
       "            <td>2</td>\n",
       "            <td>Home &amp; Garden</td>\n",
       "            <td>199.50</td>\n",
       "            <td>1</td>\n",
       "            <td>19684</td>\n",
       "            <td>Texas</td>\n",
       "            <td>Express</td>\n",
       "            <td>WordOfMouth</td>\n",
       "            <td>1712663944433965</td>\n",
       "        </tr>\n",
       "        <tr>\n",
       "            <td>20240409120804776</td>\n",
       "            <td>20240409120804776_0_2</td>\n",
       "            <td>5</td>\n",
       "            <td></td>\n",
       "            <td>3854015c-8a7b-449b-aea2-8e7a1f42d121-0_0-26-28_20240409120804776.parquet</td>\n",
       "            <td>r</td>\n",
       "            <td>1712664387644</td>\n",
       "            <td>hive</td>\n",
       "            <td>public</td>\n",
       "            <td>1712664387643</td>\n",
       "            <td>832</td>\n",
       "            <td>25906192</td>\n",
       "            <td>None</td>\n",
       "            <td>5</td>\n",
       "            <td>103</td>\n",
       "            <td>2</td>\n",
       "            <td>Home &amp; Garden</td>\n",
       "            <td>199.50</td>\n",
       "            <td>1</td>\n",
       "            <td>19684</td>\n",
       "            <td>Texas</td>\n",
       "            <td>Express</td>\n",
       "            <td>WordOfMouth</td>\n",
       "            <td>1712663944445790</td>\n",
       "        </tr>\n",
       "        <tr>\n",
       "            <td>20240409120804776</td>\n",
       "            <td>20240409120804776_0_3</td>\n",
       "            <td>2</td>\n",
       "            <td></td>\n",
       "            <td>3854015c-8a7b-449b-aea2-8e7a1f42d121-0_0-26-28_20240409120804776.parquet</td>\n",
       "            <td>r</td>\n",
       "            <td>1712664387643</td>\n",
       "            <td>hive</td>\n",
       "            <td>public</td>\n",
       "            <td>1712664387642</td>\n",
       "            <td>832</td>\n",
       "            <td>25906192</td>\n",
       "            <td>None</td>\n",
       "            <td>2</td>\n",
       "            <td>102</td>\n",
       "            <td>3</td>\n",
       "            <td>Clothing</td>\n",
       "            <td>49.99</td>\n",
       "            <td>5</td>\n",
       "            <td>19683</td>\n",
       "            <td>New York</td>\n",
       "            <td>Standard</td>\n",
       "            <td>OnlineAd</td>\n",
       "            <td>1712663944428261</td>\n",
       "        </tr>\n",
       "        <tr>\n",
       "            <td>20240409120804776</td>\n",
       "            <td>20240409120804776_0_4</td>\n",
       "            <td>4</td>\n",
       "            <td></td>\n",
       "            <td>3854015c-8a7b-449b-aea2-8e7a1f42d121-0_0-26-28_20240409120804776.parquet</td>\n",
       "            <td>r</td>\n",
       "            <td>1712664387643</td>\n",
       "            <td>hive</td>\n",
       "            <td>public</td>\n",
       "            <td>1712664387643</td>\n",
       "            <td>832</td>\n",
       "            <td>25906192</td>\n",
       "            <td>None</td>\n",
       "            <td>4</td>\n",
       "            <td>104</td>\n",
       "            <td>4</td>\n",
       "            <td>Books</td>\n",
       "            <td>15.75</td>\n",
       "            <td>3</td>\n",
       "            <td>19685</td>\n",
       "            <td>Florida</td>\n",
       "            <td>Standard</td>\n",
       "            <td>SocialMedia</td>\n",
       "            <td>1712663944439996</td>\n",
       "        </tr>\n",
       "    </tbody>\n",
       "</table>"
      ],
      "text/plain": [
       "[('20240409120804776', '20240409120804776_0_0', '1', '', '3854015c-8a7b-449b-aea2-8e7a1f42d121-0_0-26-28_20240409120804776.parquet', 'r', 1712664387642, 'hive', 'public', 1712664387633, 832, 25906192, None, 1, 101, 1, 'Electronics', Decimal('599.99'), 2, 19682, 'California', 'Express', 'Friend', 1712663944421609),\n",
       " ('20240409120804776', '20240409120804776_0_1', '3', '', '3854015c-8a7b-449b-aea2-8e7a1f42d121-0_0-26-28_20240409120804776.parquet', 'r', 1712664387643, 'hive', 'public', 1712664387643, 832, 25906192, None, 3, 103, 2, 'Home & Garden', Decimal('199.50'), 1, 19684, 'Texas', 'Express', 'WordOfMouth', 1712663944433965),\n",
       " ('20240409120804776', '20240409120804776_0_2', '5', '', '3854015c-8a7b-449b-aea2-8e7a1f42d121-0_0-26-28_20240409120804776.parquet', 'r', 1712664387644, 'hive', 'public', 1712664387643, 832, 25906192, None, 5, 103, 2, 'Home & Garden', Decimal('199.50'), 1, 19684, 'Texas', 'Express', 'WordOfMouth', 1712663944445790),\n",
       " ('20240409120804776', '20240409120804776_0_3', '2', '', '3854015c-8a7b-449b-aea2-8e7a1f42d121-0_0-26-28_20240409120804776.parquet', 'r', 1712664387643, 'hive', 'public', 1712664387642, 832, 25906192, None, 2, 102, 3, 'Clothing', Decimal('49.99'), 5, 19683, 'New York', 'Standard', 'OnlineAd', 1712663944428261),\n",
       " ('20240409120804776', '20240409120804776_0_4', '4', '', '3854015c-8a7b-449b-aea2-8e7a1f42d121-0_0-26-28_20240409120804776.parquet', 'r', 1712664387643, 'hive', 'public', 1712664387643, 832, 25906192, None, 4, 104, 4, 'Books', Decimal('15.75'), 3, 19685, 'Florida', 'Standard', 'SocialMedia', 1712663944439996)]"
      ]
     },
     "execution_count": 12,
     "metadata": {},
     "output_type": "execute_result"
    }
   ],
   "source": [
    "%sql select * from delta_sales"
   ]
  },
  {
   "cell_type": "code",
   "execution_count": 17,
   "id": "e33c2e8e-159a-43dd-b674-2fcaf18688f0",
   "metadata": {},
   "outputs": [
    {
     "name": "stdout",
     "output_type": "stream",
     "text": [
      " * trino://admin@localhost:8080/default\n",
      "Done.\n"
     ]
    },
    {
     "data": {
      "text/html": [
       "<table>\n",
       "    <thead>\n",
       "        <tr>\n",
       "            <th>Catalog</th>\n",
       "        </tr>\n",
       "    </thead>\n",
       "    <tbody>\n",
       "        <tr>\n",
       "            <td>delta</td>\n",
       "        </tr>\n",
       "        <tr>\n",
       "            <td>hive</td>\n",
       "        </tr>\n",
       "        <tr>\n",
       "            <td>hudi</td>\n",
       "        </tr>\n",
       "        <tr>\n",
       "            <td>iceberg</td>\n",
       "        </tr>\n",
       "        <tr>\n",
       "            <td>minio</td>\n",
       "        </tr>\n",
       "        <tr>\n",
       "            <td>system</td>\n",
       "        </tr>\n",
       "    </tbody>\n",
       "</table>"
      ],
      "text/plain": [
       "[('delta',), ('hive',), ('hudi',), ('iceberg',), ('minio',), ('system',)]"
      ]
     },
     "execution_count": 17,
     "metadata": {},
     "output_type": "execute_result"
    }
   ],
   "source": [
    "%sql show CATALOGS"
   ]
  },
  {
   "cell_type": "code",
   "execution_count": 19,
   "id": "7f7ae4ed-5f07-4442-a7e4-f11999c12a9f",
   "metadata": {},
   "outputs": [
    {
     "name": "stdout",
     "output_type": "stream",
     "text": [
      " * trino://admin@localhost:8080/default\n",
      "Done.\n"
     ]
    },
    {
     "data": {
      "text/plain": [
       "[]"
      ]
     },
     "execution_count": 19,
     "metadata": {},
     "output_type": "execute_result"
    }
   ],
   "source": [
    "%sql USE iceberg.iceberg_db"
   ]
  },
  {
   "cell_type": "code",
   "execution_count": 25,
   "id": "48e4db20-b5f3-4b18-a313-bebaa740da56",
   "metadata": {},
   "outputs": [
    {
     "name": "stdout",
     "output_type": "stream",
     "text": [
      " * trino://admin@localhost:8080/default\n",
      "Done.\n"
     ]
    },
    {
     "data": {
      "text/html": [
       "<table>\n",
       "    <thead>\n",
       "        <tr>\n",
       "            <th>Table</th>\n",
       "        </tr>\n",
       "    </thead>\n",
       "    <tbody>\n",
       "        <tr>\n",
       "            <td>ice_sales</td>\n",
       "        </tr>\n",
       "    </tbody>\n",
       "</table>"
      ],
      "text/plain": [
       "[('ice_sales',)]"
      ]
     },
     "execution_count": 25,
     "metadata": {},
     "output_type": "execute_result"
    }
   ],
   "source": [
    "%sql show tables"
   ]
  },
  {
   "cell_type": "code",
   "execution_count": 24,
   "id": "e70dca02-f4ec-4669-8b8f-bd5603bed6d3",
   "metadata": {},
   "outputs": [
    {
     "name": "stdout",
     "output_type": "stream",
     "text": [
      " * trino://admin@localhost:8080/default\n",
      "(trino.exceptions.TrinoExternalError) TrinoExternalError(type=EXTERNAL, name=UNSUPPORTED_TABLE_TYPE, message=\"Not an Iceberg table: iceberg_db.ice_sales\", query_id=20240408_105550_00019_ti2fz)\n",
      "[SQL: select * from ice_sales]\n",
      "(Background on this error at: https://sqlalche.me/e/20/e3q8)\n"
     ]
    }
   ],
   "source": [
    "%sql select * from ice_sales"
   ]
  }
 ],
 "metadata": {
  "kernelspec": {
   "display_name": "Python 3 (ipykernel)",
   "language": "python",
   "name": "python3"
  },
  "language_info": {
   "codemirror_mode": {
    "name": "ipython",
    "version": 3
   },
   "file_extension": ".py",
   "mimetype": "text/x-python",
   "name": "python",
   "nbconvert_exporter": "python",
   "pygments_lexer": "ipython3",
   "version": "3.10.13"
  }
 },
 "nbformat": 4,
 "nbformat_minor": 5
}
